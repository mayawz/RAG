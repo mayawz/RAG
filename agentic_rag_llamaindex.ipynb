{
 "cells": [
  {
   "cell_type": "markdown",
   "metadata": {},
   "source": [
    "# building an autonomous research agent\n",
    "- rag with llamaindex\n",
    "- 1. routing: add decision making to route requests to multiple tools\n",
    "\n",
    "- 2. tool use: create an interface for the agents to select a tool and generate the right argument for that tool\n",
    "\n",
    "- 3. multi-step reasoning with a range of tool using the LLM while maintaining language throughout that process\n",
    "\n",
    "- 4. let users optionally inject guidance during intermediate steps (during reasoning)"
   ]
  },
  {
   "cell_type": "markdown",
   "metadata": {},
   "source": []
  }
 ],
 "metadata": {
  "language_info": {
   "name": "python"
  }
 },
 "nbformat": 4,
 "nbformat_minor": 2
}
