{
 "cells": [
  {
   "cell_type": "markdown",
   "metadata": {},
   "source": [
    "# building an autonomous research agent\n",
    "- rag with llamaindex\n",
    "- 1. routing: add decision making to route requests to multiple tools\n",
    "\n",
    "- 2. tool use: create an interface for the agents to select a tool and generate the right argument for that tool\n",
    "\n",
    "- 3. multi-step reasoning with a range of tool using the LLM while maintaining language throughout that process\n",
    "\n",
    "- 4. let users optionally inject guidance during intermediate steps (during reasoning)"
   ]
  },
  {
   "cell_type": "code",
   "execution_count": 1,
   "metadata": {},
   "outputs": [],
   "source": [
    "import sys\n",
    "import os\n",
    "import nest_asyncio # make jupyter nb play nicelly with llamaindex\n",
    "from helper import load_api_key\n",
    "OPENAI_API_KEY = load_api_key('openai_pat.txt')\n",
    "OPENAI_ORG_KEY = load_api_key('openai_org.txt')"
   ]
  },
  {
   "cell_type": "code",
   "execution_count": 6,
   "metadata": {},
   "outputs": [],
   "source": [
    "import openai \n",
    "from openai import OpenAI\n",
    "\n",
    "# Set up the OpenAI client\n",
    "client = OpenAI(\n",
    "    api_key=OPENAI_API_KEY,\n",
    "    organization=OPENAI_ORG_KEY\n",
    ")"
   ]
  },
  {
   "cell_type": "markdown",
   "metadata": {},
   "source": [
    "## Rounting"
   ]
  },
  {
   "cell_type": "code",
   "execution_count": null,
   "metadata": {},
   "outputs": [],
   "source": [
    "# load data\n",
    "from llama_index.core import SimpleDirectoryReader\n",
    "\n",
    "# read pdf into a parsed documentation\n",
    "documents = SimpleDirectoryReader(input_files=[\"metagpt.pdf\"]).load_data()"
   ]
  },
  {
   "cell_type": "markdown",
   "metadata": {},
   "source": [
    "### Define LLM and Embedding model"
   ]
  },
  {
   "cell_type": "code",
   "execution_count": null,
   "metadata": {},
   "outputs": [],
   "source": [
    "# split the documents into even sized chucks\n",
    "# split on the order of sentences\n",
    "from llama_index.core.node_parser import SentenceSplitter\n",
    "\n",
    "splitter = SentenceSplitter(chunk_size=1024)\n",
    "# define documents into notes \n",
    "nodes = splitter.get_nodes_from_documents(documents)"
   ]
  },
  {
   "cell_type": "code",
   "execution_count": 5,
   "metadata": {},
   "outputs": [],
   "source": [
    "# global confile setting \n",
    "# specify the LLM embedding model to use \n",
    "from llama_index.core import Settings\n",
    "from llama_index.llms.openai import OpenAI\n",
    "from llama_index.embeddings.openai import OpenAIEmbedding\n",
    "from utils import *\n",
    "\n",
    "Settings.llm = OpenAI(model=\"gpt-4o\") \n",
    "Settings.embed_model = OpenAIEmbedding(model=\"text-embedding-ada-002\")"
   ]
  },
  {
   "cell_type": "code",
   "execution_count": null,
   "metadata": {},
   "outputs": [],
   "source": []
  }
 ],
 "metadata": {
  "kernelspec": {
   "display_name": "rag",
   "language": "python",
   "name": "python3"
  },
  "language_info": {
   "codemirror_mode": {
    "name": "ipython",
    "version": 3
   },
   "file_extension": ".py",
   "mimetype": "text/x-python",
   "name": "python",
   "nbconvert_exporter": "python",
   "pygments_lexer": "ipython3",
   "version": "3.10.13"
  }
 },
 "nbformat": 4,
 "nbformat_minor": 2
}
